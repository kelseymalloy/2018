{
 "cells": [
  {
   "cell_type": "code",
   "execution_count": 1,
   "metadata": {},
   "outputs": [],
   "source": [
    "import numpy as np\n"
   ]
  },
  {
   "cell_type": "code",
   "execution_count": 83,
   "metadata": {},
   "outputs": [
    {
     "name": "stdout",
     "output_type": "stream",
     "text": [
      "[[0.84548717 0.22952799]\n",
      " [0.80040351 0.03801875]\n",
      " [0.30960235 0.1206228 ]]\n",
      "[[0.84548717 0.22952799]\n",
      " [0.80040351 0.03801875]\n",
      " [0.30960235 0.1206228 ]]\n",
      "Reconstructed original data!\n"
     ]
    }
   ],
   "source": [
    "# part a\n",
    "D = np.random.rand(3,2)\n",
    "print(D)\n",
    "\n",
    "U,S,V = np.linalg.svd(D,full_matrices=False)\n",
    "np.allclose(D, np.dot(U * S, V))\n",
    "np.allclose(D,np.dot(U,np.dot(np.diag(L),V)))\n",
    "\n",
    "S[2:]=0.\n",
    "newD = np.dot(U,np.dot(np.diag(S),V))\n",
    "print(newD)\n",
    "print('Reconstructed original data!')"
   ]
  },
  {
   "cell_type": "code",
   "execution_count": 84,
   "metadata": {},
   "outputs": [
    {
     "name": "stdout",
     "output_type": "stream",
     "text": [
      "Covariance matrix 2x2: [[1.45134795 0.26183841]\n",
      " [0.26183841 0.06867838]]\n",
      "Covariance matrix 3x3: [[0.76753165 0.68545727 0.28945112]\n",
      " [0.68545727 0.64209121 0.25239273]\n",
      " [0.28945112 0.25239273 0.11040347]]\n",
      "Eigenvalues of 2x2: [1.49927167 0.02075466]\n",
      "Eigenvectors of 2x2: [[ 0.98365981 -0.18003714]\n",
      " [ 0.18003714  0.98365981]]\n",
      "Eigenvalues of 3x3: [1.49927167e+00 2.07546600e-02 2.31848009e-17]\n",
      "Eigenvectors of 3x3: [[-0.7129708  -0.51059229 -0.48059145]\n",
      " [-0.64859421  0.74067264  0.17529856]\n",
      " [-0.26645485 -0.43669159  0.85924517]]\n",
      "New Cov Matrix 2x2: [[1.45134795 0.26183841]\n",
      " [0.26183841 0.06867838]]\n",
      "New Cov Matrix 3x3: [[0.76753165 0.68545727 0.28945112]\n",
      " [0.68545727 0.64209121 0.25239273]\n",
      " [0.28945112 0.25239273 0.11040347]]\n",
      "Reconstructed Covariance!\n"
     ]
    }
   ],
   "source": [
    "# part b\n",
    "C2 = np.dot(np.transpose(D),D)\n",
    "C3 = np.dot(D,np.transpose(D))\n",
    "print('Covariance matrix 2x2: '+str(C2))\n",
    "print('Covariance matrix 3x3: '+str(C3))\n",
    "\n",
    "W2,U2 = np.linalg.eig(C2)\n",
    "print('Eigenvalues of 2x2: '+str(W2))\n",
    "print('Eigenvectors of 2x2: ' +str(U2))\n",
    "\n",
    "W3,U3 = np.linalg.eig(C3)\n",
    "print('Eigenvalues of 3x3: '+str(W3))\n",
    "print('Eigenvectors of 3x3: ' +str(U3))\n",
    "\n",
    "Cnew2 = np.dot(U2,np.dot(np.diag(W2),np.transpose(U2)))\n",
    "Cnew3 = np.dot(U3,np.dot(np.diag(W3),np.transpose(U3)))\n",
    "print('New Cov Matrix 2x2: '+str(Cnew2))\n",
    "print('New Cov Matrix 3x3: '+str(Cnew3))\n",
    "print('Reconstructed Covariance!')\n",
    "#U,S,V = np.linalg.eig(D,full_matrices=False)\n",
    "#np.allclose(D, np.dot(U * S, V))\n",
    "#np.allclose(D,np.dot(U,np.dot(np.diag(L),V)))\n",
    "\n",
    "#S[2:]=0.\n",
    "#newD = np.dot(U,np.dot(np.diag(S),V))\n",
    "#print(newD)"
   ]
  },
  {
   "cell_type": "code",
   "execution_count": null,
   "metadata": {},
   "outputs": [],
   "source": []
  }
 ],
 "metadata": {
  "kernelspec": {
   "display_name": "Python 3",
   "language": "python",
   "name": "python3"
  },
  "language_info": {
   "codemirror_mode": {
    "name": "ipython",
    "version": 3
   },
   "file_extension": ".py",
   "mimetype": "text/x-python",
   "name": "python",
   "nbconvert_exporter": "python",
   "pygments_lexer": "ipython3",
   "version": "3.6.4"
  }
 },
 "nbformat": 4,
 "nbformat_minor": 2
}
